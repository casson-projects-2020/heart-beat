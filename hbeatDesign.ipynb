{
 "cells": [
  {
   "cell_type": "markdown",
   "metadata": {},
   "source": [
    "<h1 style=\"display:inline-block\">Heart Beat</h1><h2>Monitor portátil de batimentos cardiacos para exame de qualidade de sono e vigilância de idosos.</h2><br/>\n",
    "<h3>Arranjo Experimental</h3><br/>\n",
    "<br/>\n",
    "O projeto é composto dos seguintes componentes.<br/>\n",
    "<br/>\n",
    "1 - Colar (neckband) com bateria para sustentar o sensor e microfone com chip BlueTooth para conexão.<br/>\n",
    "2 - Conexão entre o sensor de batimento cardiaco e o microfone para enviar o sinal de batimentos cardiacos como som.<br/>\n",
    "3 - Gravador de som em dispositivo remoto (celular) conectado com o microfone bluetooth.<br/>\n",
    "4 - Analisador de sinal de batimentos cardiacos.<br/>\n"
   ]
  },
  {AC
   "cell_type": "markdown",
   "metadata": {},
   "source": [
    "<h3>3 - Gravador de som em dispositivo remoto</h3>\n",
    "<br/>\n",
    "O app deverá desenvolver o equivalente ao seguinte codigo python:<br/>\n",
    "<br/>\n",
    "(executar em máquina local para capturar o microfone)<br/>\n"
   ]
  },
  {
   "cell_type": "code",
   "execution_count": null,
   "metadata": {
    "colab": {},
    "colab_type": "code",
    "id": "ezRSPKUC7CER"
   },
   "outputs": [],
   "source": [
    "!python3 -m pip install sounddevice\n"
   ]
  },
  {
   "cell_type": "code",
   "execution_count": null,
   "metadata": {},
   "outputs": [],
   "source": [
    "import sounddevice as som\n",
    "import numpy as np\n",
    "from time import time\n",
    "\n",
    "\n",
    "# samples per second\n",
    "sps = 44100\n",
    "som.default.samplerate = sps\n",
    "\n",
    "# save 20s os heart beats at a time\n",
    "duration = 20\n",
    "\n",
    "# recording heartbeats in mono\n",
    "som.default.channels = 1\n",
    "\n",
    "# in the config, data output path for the app\n",
    "outpath = r\"C:\\Users\\evoya\\OneDrive\\Documentos\\heartBand\\heartBand\\\"\n",
    "\n",
    "\n",
    "while True:\n",
    "    hbeat = som.rec( int( duration * sps ))\n",
    "    som.wait()\n",
    "    \n",
    "    np.save( outhpath + \"hb_\" + str(int( time())) + \".npy\", hbeat, allow_pickle=False )\n"
   ]
  }
 ],
 "metadata": {
  "colab": {
   "authorship_tag": "ABX9TyPkDsVvRybOrUcBPPzrJJoK",
   "name": "vpython-test.ipynb",
   "provenance": []
  },
  "kernelspec": {
   "display_name": "Python 3",
   "language": "python",
   "name": "python3"
  },
  "language_info": {
   "codemirror_mode": {
    "name": "ipython",
    "version": 3
   },
   "file_extension": ".py",
   "mimetype": "text/x-python",
   "name": "python",
   "nbconvert_exporter": "python",
   "pygments_lexer": "ipython3",
   "version": "3.7.8"
  }
 },
 "nbformat": 4,
 "nbformat_minor": 1
}
